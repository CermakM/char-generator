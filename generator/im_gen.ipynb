{
 "cells": [
  {
   "cell_type": "code",
   "execution_count": 3,
   "metadata": {},
   "outputs": [],
   "source": [
    "import os\n",
    "import random\n",
    "import sys\n",
    "\n",
    "from functools import reduce\n",
    "from numpy import subtract, floor_divide\n",
    "    \n",
    "from PIL import Image, ImageDraw, ImageFont"
   ]
  },
  {
   "cell_type": "code",
   "execution_count": 4,
   "metadata": {},
   "outputs": [],
   "source": [
    "# globals\n",
    "CHARSET_SIZE = 0\n",
    "# DATA_DIR = os.environ.get('PONCO_DATA_DIR')\n",
    "# FONT_DIR = os.environ.get('PONCO_FONT_DIR')\n",
    "\n",
    "FONT_DIR = '/home/macermak/code/thesis/char-generator/fonts'  # FIXME\n",
    "DATA_DIR = '/home/macermak/code/thesis/char-generator/dataset'  # FIXME\n",
    "\n",
    "if not FONT_DIR or not DATA_DIR:\n",
    "    print(\"FONT_DIR or DATA_DIR environment variable is missing\", file=sys.stderr)\n",
    "    # exit(1)\n",
    "\n",
    "# Create directories if not exist\n",
    "if not os.path.isdir(FONT_DIR):\n",
    "    os.mkdir(FONT_DIR)\n",
    "if not os.path.isdir(DATA_DIR):\n",
    "    os.mkdir(DATA_DIR)"
   ]
  },
  {
   "cell_type": "code",
   "execution_count": 5,
   "metadata": {},
   "outputs": [],
   "source": [
    "def estimate_font_size(ttf, text, fit_size, font_size=20, eps=8):\n",
    "    font = ImageFont.truetype(font=ttf, encoding='utf-8', size=font_size)\n",
    "\n",
    "    w, h = font.getsize(text)\n",
    "    _err = max(fit_size) - max(w, h)\n",
    "    \n",
    "    while abs(_err) > eps:\n",
    "        w, h = font.getsize(text)\n",
    "        _err = max(fit_size) - max(w, h)\n",
    "        \n",
    "        font_size += 1 if _err > 0 else -1\n",
    "        font = ImageFont.truetype(font=ttf, encoding='utf-8', size=int(font_size))\n",
    "    \n",
    "    return font"
   ]
  },
  {
   "cell_type": "code",
   "execution_count": 29,
   "metadata": {},
   "outputs": [],
   "source": [
    "def load_char_set(fpath='simple-charset.txt') -> list:\n",
    "    \"\"\"Load characters that are allowed from the charset.txt file.\"\"\"\n",
    "    with open(fpath) as f:  # FIXME: use the full charset by default\n",
    "        chars = f.read().split()\n",
    "\n",
    "    global CHARSET_SIZE\n",
    "    CHARSET_SIZE = len(chars)\n",
    "\n",
    "    return chars"
   ]
  },
  {
   "cell_type": "code",
   "execution_count": 7,
   "metadata": {},
   "outputs": [],
   "source": [
    "def load_font_set() -> list:\n",
    "    \"\"\"Walk through the default font directory and search for font files.\"\"\"\n",
    "    import re\n",
    "    fnames = []\n",
    "    for root, _, files in os.walk(FONT_DIR):\n",
    "        fnames.extend(os.path.join(root, f) for f in files if re.match(r'(.+)\\.[odtfOTF]{3}', f))\n",
    "\n",
    "    return fnames"
   ]
  },
  {
   "cell_type": "code",
   "execution_count": 141,
   "metadata": {},
   "outputs": [],
   "source": [
    "def get_near_dim_2d(number, mode='wide') -> tuple:\n",
    "    \"\"\"Try to factor the number into two similiar dimensions.\"\"\"\n",
    "    import numpy as np\n",
    "    if number <= 2:\n",
    "        return (number, 1)\n",
    "        \n",
    "    shape = [2, 2]\n",
    "    while np.prod(shape) < number:\n",
    "        shape[np.argmin(shape)] += 1\n",
    "        \n",
    "    return tuple(sorted(shape, reverse=(mode == 'wide')))"
   ]
  },
  {
   "cell_type": "code",
   "execution_count": 123,
   "metadata": {},
   "outputs": [],
   "source": [
    "def create_whiteboard(shape=None, n_samples=None, color='#f4f4f4', sample_size=(32, 32)) -> Image.Image:\n",
    "    \"\"\"Computes and Creates white board (background) for the given font.\"\"\"\n",
    "    \n",
    "    if not any([n_samples, shape]):\n",
    "        print(\"Either `n_samples` or `shape` must be provided.\")\n",
    "        return\n",
    "    \n",
    "    if shape is None:\n",
    "        assert len(n_samples) == 2, \"expected `n_samples` argument to be 2-D vector, but is %i-D vector\" % len(n_samples)\n",
    "        bg_size = (n_samples[0] * sample_size[0], n_samples[1] * sample_size[1])\n",
    "    else:\n",
    "        assert len(shape) == 2, \"expected `shape` argument to be 2-D vector, but is %i-D vector\" % len(shape)\n",
    "        bg_size = shape\n",
    "\n",
    "    return Image.new(mode='RGBA', size=bg_size, color=color)"
   ]
  },
  {
   "cell_type": "code",
   "execution_count": 9,
   "metadata": {},
   "outputs": [],
   "source": [
    "def get_text_loc_in_sample(text, font: \"ImageFont.font\", sample_size, offset='random'):\n",
    "    \"\"\"Calculates location of text on the given sample background.\"\"\"\n",
    "    fo_x, fo_y = font.getoffset(text)\n",
    "    if offset == 'random':\n",
    "        # add a little bit of entropy\n",
    "        rand_factor = min(sample_size) // 10\n",
    "        font_offset = (\n",
    "                fo_x + random.randint(-rand_factor, rand_factor),\n",
    "                fo_y + random.randint(-rand_factor, rand_factor),\n",
    "        )\n",
    "        \n",
    "    # location of char in the sample\n",
    "    char_loc = reduce(subtract, (sample_size, font.getsize(text), font_offset))\n",
    "    char_loc = floor_divide(char_loc, 2)\n",
    "    \n",
    "    return char_loc"
   ]
  },
  {
   "cell_type": "code",
   "execution_count": 133,
   "metadata": {},
   "outputs": [],
   "source": [
    "def create_sprites(charset: list, fontset: list, sample_size=(32, 32)):\n",
    "    \"\"\"Create sprites for each font provided in fontset and saves it as .png into IMG_DIR.\n",
    "    Characters given by charset are drawn on a spritesheet.\n",
    "    \"\"\"\n",
    "    import re\n",
    "\n",
    "    if not fontset:\n",
    "        print(\"Empty argument provided: fontset - \", fontset, file=sys.stderr)\n",
    "\n",
    "    n_samples = get_near_dim_2d(len(charset))\n",
    "    board = create_whiteboard(n_samples=n_samples, sample_size=sample_size)\n",
    "    sprites_dir = \"{path}/sprites\".format(path=DATA_DIR)\n",
    "    # Make sure sprites directory exists\n",
    "    if not os.path.isdir(sprites_dir):\n",
    "        os.mkdir(sprites_dir)\n",
    "\n",
    "    for font_file in fontset:\n",
    "        font_name = re.search(r\"([^/]+)\\.(\\w+)$\", font_file).group(1)\n",
    "        board_name = \"{path}/{ttf}-board.png\".format(\n",
    "                path=sprites_dir,\n",
    "                ttf=font_name)\n",
    "        if os.path.isfile(board_name):\n",
    "            print('Skipping', board_name)\n",
    "            continue\n",
    "\n",
    "        print(\"Creating spritesheet\", board_name, \"...\") \n",
    "        font_board = board.copy()\n",
    "        try:\n",
    "            font = estimate_font_size(\n",
    "                    ttf=font_file,\n",
    "                    text='H',  # for sake of performance, assume that what works\n",
    "                                # for H, works for everything else\n",
    "                    fit_size=(32, 32),\n",
    "                    eps=max(sample_size) // 10\n",
    "                    )\n",
    "        except OSError as e:\n",
    "            print(\"Skipping\", font_file, e.args)\n",
    "            \n",
    "        draw = ImageDraw.Draw(font_board)\n",
    "\n",
    "        init_pos = (0, 0)\n",
    "        for char in charset:\n",
    "            # position of char in the sample\n",
    "            char_loc = get_text_loc_in_sample(text=char, font=font, sample_size=sample_size)\n",
    "            \n",
    "            # position of char on the board\n",
    "            char_pos = init_pos + char_loc\n",
    "            draw.text(\n",
    "                    xy=char_pos,\n",
    "                    text=char,\n",
    "                    font=font,\n",
    "                    fill=\"black\"\n",
    "                    )\n",
    "\n",
    "            if init_pos[0] + sample_size[0] >= board.size[0]:\n",
    "                init_pos = (0, init_pos[1] + sample_size[1])\n",
    "            else:\n",
    "                init_pos = (init_pos[0] + sample_size[0], init_pos[1])\n",
    "\n",
    "        # save the board\n",
    "        font_board.save(fp=board_name)\n",
    "        print('Written', board_name)"
   ]
  },
  {
   "cell_type": "code",
   "execution_count": 93,
   "metadata": {},
   "outputs": [],
   "source": [
    "def create_char_image(char, font_file, sample_size=(32, 32), bgcolor='#f6f6f6', fontcolor='black'):\n",
    "    \"\"\"Generate image of given size and font for each character.\"\"\"\n",
    "    try:\n",
    "        font = estimate_font_size(\n",
    "                ttf=font_file,\n",
    "                text=char,  # for sake of performance, assume that what works\n",
    "                           # for H, works for everything else\n",
    "                fit_size=(32, 32),\n",
    "                eps=max(sample_size) // 10\n",
    "                )\n",
    "    except OSError as e:\n",
    "        print(\"Skipping\", font_file, e.args)\n",
    "        raise OSError from e\n",
    "\n",
    "    char_bg = Image.new(mode='RGB', color=bgcolor, size=sample_size)\n",
    "    draw = ImageDraw.Draw(char_bg)\n",
    "    \n",
    "    char_loc = get_text_loc_in_sample(text=char, font=font, sample_size=sample_size)\n",
    "    draw.text(\n",
    "            xy=char_loc,\n",
    "            text=char,\n",
    "            font=font,\n",
    "            fill=fontcolor\n",
    "            )\n",
    "    \n",
    "    return char_bg"
   ]
  },
  {
   "cell_type": "code",
   "execution_count": 73,
   "metadata": {},
   "outputs": [],
   "source": [
    "def create_charset_dir(charset, prefix=None, dir_name='charset', create_prefix_dir=False):\n",
    "    \"\"\"Create charset directory with structure matching Keras directory model.\"\"\"\n",
    "    import os\n",
    "    import sys\n",
    "    \n",
    "    if prefix is not None and not os.path.isdir(prefix):\n",
    "        if not create_prefix_dir:\n",
    "            print(\"Directory {dir} passed as `prefix` does not exist. Use `create_prefix_dir=True` to create prefix directory.\",\n",
    "                  file=sys.stderr)\n",
    "            return\n",
    "        else:\n",
    "            os.mkdir(prefix)\n",
    "            \n",
    "    if prefix is None:\n",
    "        prefix = '.'\n",
    "    elif prefix.endswith('/'):\n",
    "        # Strip the last slash from prefix path\n",
    "        prefix = prefix[:-1]\n",
    "        \n",
    "    charset_dir = \"{prefix}/charset\".format(prefix=prefix)\n",
    "    if os.path.isdir(charset_dir):\n",
    "        print('Directory %s already exists.' % charset_dir, file=sys.stderr)\n",
    "        return\n",
    "            \n",
    "    os.mkdir(charset_dir)\n",
    "    \n",
    "    for char in charset:\n",
    "        char_ascii = ord(char)\n",
    "        char_dir = \"{charset_dir}/{char_dir}\".format(charset_dir=charset_dir, char_dir=char_ascii)\n",
    "        os.mkdir(char_dir)\n",
    "        \n",
    "    return charset_dir "
   ]
  },
  {
   "cell_type": "code",
   "execution_count": 84,
   "metadata": {},
   "outputs": [],
   "source": [
    "def create_and_save_charsets(charset, fontset, sample_size=(32, 32), bgcolor='#f6f6f6', fontcolor='black'):\n",
    "    \"\"\"Create char images from charset for each font in fontset.\"\"\"\n",
    "    import re\n",
    "    charset_dir = create_charset_dir(charset=charset, prefix=DATA_DIR, create_prefix_dir=True)\n",
    "        \n",
    "    for font_file in fontset:\n",
    "        font_name = re.search(r\"([^/]+)\\.(\\w+)$\", font_file).group(1)\n",
    "        for char in charset:\n",
    "            try:\n",
    "                char_img = create_char_image(char, font_file, sample_size, bgcolor, fontcolor)\n",
    "            except OSError:\n",
    "                # Skip the font completely\n",
    "                break\n",
    "            char_img_path = \"{charset_dir}/{char_dir}/{font_name}.png\".format(\n",
    "                charset_dir=charset_dir,\n",
    "                char_dir=ord(char),  # The directory structure expects char ordinal\n",
    "                font_name=font_name\n",
    "            ) \n",
    "            char_img.save(fp=char_img_path, formet='png')"
   ]
  },
  {
   "cell_type": "markdown",
   "metadata": {},
   "source": [
    "## Tests"
   ]
  },
  {
   "cell_type": "code",
   "execution_count": 14,
   "metadata": {},
   "outputs": [],
   "source": [
    "import unittest"
   ]
  },
  {
   "cell_type": "code",
   "execution_count": 139,
   "metadata": {},
   "outputs": [],
   "source": [
    "import os\n",
    "import sys\n",
    "import tempfile\n",
    "\n",
    "class GeneratorTests(unittest.TestCase):\n",
    "    \"\"\"Class containing tests for character generator.\"\"\"\n",
    "    TEST_CHARSET = ['A', 'a', '0', '.', '&', '^']\n",
    "    \n",
    "    def test_load_charset(self):\n",
    "        fd, f_path = tempfile.mkstemp()\n",
    "        for char in self.TEST_CHARSET:\n",
    "            os.write(fd, \"{}\\n\".format(char).encode())\n",
    "        os.close(fd)\n",
    "        loaded_charset = load_char_set(f_path)\n",
    "        \n",
    "        self.assertSequenceEqual(self.TEST_CHARSET, loaded_charset)\n",
    "    \n",
    "    def test_get_near_dim(self):\n",
    "        number = 210\n",
    "        shape = get_near_dim_2d(number, mode='wide')\n",
    "        \n",
    "        self.assertEqual(shape, (15, 14))\n",
    "    \n",
    "    def test_create_charset_dir_correct_path(self):\n",
    "        \"\"\"Check if the path to the new directory has been returned.\"\"\"\n",
    "        prefix = tempfile.mkdtemp()\n",
    "        charset_dir = create_charset_dir(self.TEST_CHARSET, prefix, create_prefix_dir=True)\n",
    "        \n",
    "        self.assertTrue(charset_dir.startswith(prefix))\n",
    "                          \n",
    "    def test_create_charset_dir(self):\n",
    "        \"\"\"Check if the new directory contains subdirectories matching the test_charset.\"\"\"\n",
    "        prefix = tempfile.mkdtemp()\n",
    "        charset_dir = create_charset_dir(self.TEST_CHARSET, prefix, create_prefix_dir=True)\n",
    "        charset_ascii = set(ord(c) for c in self.TEST_CHARSET)\n",
    "        subdirs = set(int(dir_name) for dir_name in os.listdir(charset_dir))\n",
    "        \n",
    "        self.assertEqual(subdirs, charset_ascii)"
   ]
  },
  {
   "cell_type": "code",
   "execution_count": 142,
   "metadata": {},
   "outputs": [
    {
     "name": "stderr",
     "output_type": "stream",
     "text": [
      "....\n",
      "----------------------------------------------------------------------\n",
      "Ran 4 tests in 0.003s\n",
      "\n",
      "OK\n"
     ]
    },
    {
     "data": {
      "text/plain": [
       "<unittest.runner.TextTestResult run=4 errors=0 failures=0>"
      ]
     },
     "execution_count": 142,
     "metadata": {},
     "output_type": "execute_result"
    }
   ],
   "source": [
    "suite = unittest.defaultTestLoader.loadTestsFromTestCase(GeneratorTests)\n",
    "unittest.TextTestRunner().run(suite)"
   ]
  },
  {
   "cell_type": "markdown",
   "metadata": {},
   "source": [
    "## Execution"
   ]
  },
  {
   "cell_type": "code",
   "execution_count": 48,
   "metadata": {},
   "outputs": [],
   "source": [
    "charset = load_char_set()\n",
    "fontset = load_font_set()\n",
    "\n",
    "font_file = '/home/macermak/code/thesis/char-generator/fonts/Inconsolata/Inconsolata.otf'"
   ]
  },
  {
   "cell_type": "code",
   "execution_count": 132,
   "metadata": {},
   "outputs": [
    {
     "data": {
      "image/png": "[encoded data removed]",
      "text/plain": [
       "<PIL.Image.Image image mode=RGBA size=256x256 at 0x7F14AF8F5320>"
      ]
     },
     "execution_count": 132,
     "metadata": {},
     "output_type": "execute_result"
    }
   ],
   "source": [
    "create_whiteboard(n_samples=get_near_dim_2d(len(charset)))"
   ]
  },
  {
   "cell_type": "code",
   "execution_count": 135,
   "metadata": {},
   "outputs": [
    {
     "name": "stdout",
     "output_type": "stream",
     "text": [
      "Creating spritesheet /home/macermak/code/thesis/char-generator/dataset/sprites/Inconsolata-board.png ...\n",
      "Written /home/macermak/code/thesis/char-generator/dataset/sprites/Inconsolata-board.png\n"
     ]
    }
   ],
   "source": [
    "# Create a fontboard to visualize an arbitrary font\n",
    "create_sprites(charset=charset, fontset=[font_file])"
   ]
  },
  {
   "cell_type": "code",
   "execution_count": 136,
   "metadata": {},
   "outputs": [
    {
     "data": {
      "image/png": "[encoded data removed]",
      "text/plain": [
       "<PIL.PngImagePlugin.PngImageFile image mode=RGBA size=256x256 at 0x7F14AF8ECCC0>"
      ]
     },
     "execution_count": 136,
     "metadata": {},
     "output_type": "execute_result"
    }
   ],
   "source": [
    "Image.open('/home/macermak/code/thesis/char-generator/dataset/sprites/Inconsolata-board.png')"
   ]
  },
  {
   "cell_type": "code",
   "execution_count": 81,
   "metadata": {},
   "outputs": [
    {
     "name": "stdout",
     "output_type": "stream",
     "text": [
      "Automatic pdb calling has been turned OFF\n"
     ]
    }
   ],
   "source": [
    "%pdb off"
   ]
  },
  {
   "cell_type": "code",
   "execution_count": 85,
   "metadata": {},
   "outputs": [
    {
     "name": "stdout",
     "output_type": "stream",
     "text": [
      "Skipping /home/macermak/code/thesis/char-generator/fonts/GFS_BODONI/MACOSX/GFS_BODONI_OT/._GFSBodoniBold.otf ('unknown file format',)\n",
      "Skipping /home/macermak/code/thesis/char-generator/fonts/GFS_BODONI/MACOSX/GFS_BODONI_OT/._GFSBodoni.otf ('unknown file format',)\n",
      "Skipping /home/macermak/code/thesis/char-generator/fonts/GFS_BODONI/MACOSX/GFS_BODONI_OT/._GFSBodoniBoldIt.otf ('unknown file format',)\n",
      "Skipping /home/macermak/code/thesis/char-generator/fonts/GFS_BODONI/MACOSX/GFS_BODONI_OT/._GFSBodoniIt.otf ('unknown file format',)\n",
      "Skipping /home/macermak/code/thesis/char-generator/fonts/GFS_DIDOT/MACOSX/GFS_DIDOT_TT/._GFSDidotBold.ttf ('unknown file format',)\n",
      "Skipping /home/macermak/code/thesis/char-generator/fonts/GFS_DIDOT/MACOSX/GFS_DIDOT_TT/._GFSDidot.ttf ('unknown file format',)\n",
      "Skipping /home/macermak/code/thesis/char-generator/fonts/GFS_DIDOT/MACOSX/GFS_DIDOT_TT/._GFSDidotItalic.ttf ('unknown file format',)\n",
      "Skipping /home/macermak/code/thesis/char-generator/fonts/GFS_DIDOT/MACOSX/GFS_DIDOT_TT/._GFSDidotBoldItalic.ttf ('unknown file format',)\n",
      "Skipping /home/macermak/code/thesis/char-generator/fonts/GFS_NEOHELLENIC/MACOSX/GFS_NEOHELLENIC_OT/._GFSNeohellenicIt.otf ('unknown file format',)\n",
      "Skipping /home/macermak/code/thesis/char-generator/fonts/GFS_NEOHELLENIC/MACOSX/GFS_NEOHELLENIC_OT/._GFSNeohellenicBoldIt.otf ('unknown file format',)\n",
      "Skipping /home/macermak/code/thesis/char-generator/fonts/GFS_NEOHELLENIC/MACOSX/GFS_NEOHELLENIC_OT/._GFSNeohellenic.otf ('unknown file format',)\n",
      "Skipping /home/macermak/code/thesis/char-generator/fonts/GFS_NEOHELLENIC/MACOSX/GFS_NEOHELLENIC_OT/._GFSNeohellenicBold.otf ('unknown file format',)\n",
      "Skipping /home/macermak/code/thesis/char-generator/fonts/geek_a_byte/MACOSX/Geek_a_byte_2_CE-OTF-/._GeekaCE.otf ('unknown file format',)\n",
      "Skipping /home/macermak/code/thesis/char-generator/fonts/GFS_ARTEMISIA/MACOSX/GFS_ARTEMISIA/._GFSArtemisia.otf ('unknown file format',)\n",
      "Skipping /home/macermak/code/thesis/char-generator/fonts/GFS_ARTEMISIA/MACOSX/GFS_ARTEMISIA/._GFSArtemisiaIt.otf ('unknown file format',)\n",
      "Skipping /home/macermak/code/thesis/char-generator/fonts/GFS_ARTEMISIA/MACOSX/GFS_ARTEMISIA/._GFSArtemisiaBold.otf ('unknown file format',)\n",
      "Skipping /home/macermak/code/thesis/char-generator/fonts/GFS_ARTEMISIA/MACOSX/GFS_ARTEMISIA/._GFSArtemisiaBoldIt.otf ('unknown file format',)\n",
      "Skipping /home/macermak/code/thesis/char-generator/fonts/scriptina/SCRIPALT.ttf ('raster overflow',)\n",
      "Skipping /home/macermak/code/thesis/char-generator/fonts/ringbearer/MACOSX/RingbearerCE-OTF-/._RingbearerCE.otf ('unknown file format',)\n",
      "Skipping /home/macermak/code/thesis/char-generator/fonts/plasma_drip_brk/MACOSX/._PlasmaDripCE.otf ('unknown file format',)\n"
     ]
    }
   ],
   "source": [
    "create_and_save_charsets(charset=charset, fontset=fontset)"
   ]
  }
 ],
 "metadata": {
  "kernelspec": {
   "display_name": "Python 3",
   "language": "python",
   "name": "python3"
  },
  "language_info": {
   "codemirror_mode": {
    "name": "ipython",
    "version": 3
   },
   "file_extension": ".py",
   "mimetype": "text/x-python",
   "name": "python",
   "nbconvert_exporter": "python",
   "pygments_lexer": "ipython3",
   "version": "3.6.3"
  }
 },
 "nbformat": 4,
 "nbformat_minor": 2
}
